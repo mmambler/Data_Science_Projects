{
  "nbformat": 4,
  "nbformat_minor": 0,
  "metadata": {
    "colab": {
      "provenance": []
    },
    "kernelspec": {
      "name": "python3",
      "display_name": "Python 3"
    },
    "language_info": {
      "name": "python"
    }
  },
  "cells": [
    {
      "cell_type": "markdown",
      "source": [
        "[![Open in Colab](https://colab.research.google.com/assets/colab-badge.svg)](https://colab.research.google.com/drive/1T-sEv3HDSzldT0M-yEpl6DjRlyHlE1eq?usp=sharing)"
      ],
      "metadata": {
        "id": "T_ZvX7rxUyxz"
      }
    },
    {
      "cell_type": "markdown",
      "source": [
        "# Group Project Milestone #1\n",
        "### Mac Ambler\n",
        "### Group Name: IMDb Analytics\n",
        "### DATA 340-02, Spring 2023\n",
        "### 04/13/2023"
      ],
      "metadata": {
        "id": "LjmvKACXVBhS"
      }
    },
    {
      "cell_type": "markdown",
      "source": [
        "### SUBTASK: Data Extraction/Cleaning\n",
        "\n",
        "My goal for this week was to load the data for the project into Python and write code that succesfully creates a nested dictionary of each director, their movies, and the crews involved in these projects. I'm happy to say that I have mostly accomplished this goal! The following is a step-by-step walkthrough of my progress to this point:"
      ],
      "metadata": {
        "id": "8P_h_9lJVBmd"
      }
    },
    {
      "cell_type": "markdown",
      "source": [
        "First, I imported all necessary packages for both the imdb_scraper code as well as my own, and read in the data from the GitHub link."
      ],
      "metadata": {
        "id": "hcjxmzOPYV-n"
      }
    },
    {
      "cell_type": "markdown",
      "source": [
        "\n",
        "\n",
        "```\n",
        "!pip install isoduration\n",
        "!pip install NwalaTextUtils\n",
        "!pip install PyMovieDb\n",
        "\n",
        "!cp /content/drive/Shareddrives/IMDB_Analytics_Project/imdb_scraper.py .\n",
        "\n",
        "import imdb_scraper\n",
        "import json\n",
        "\n",
        "import pandas as pd\n",
        "\n",
        "url = 'https://raw.githubusercontent.com/anwala/teaching-network-science/main/spring-2023/homework/hw5-group/group-project-topic-01/100_film_directors.csv'\n",
        "df = pd.read_csv(url)\n",
        "```\n",
        "\n"
      ],
      "metadata": {
        "id": "_1OG1LnrX_RX"
      }
    },
    {
      "cell_type": "markdown",
      "source": [
        "Next, I created a new column in the dataframe with the isolated URI codes for the directors."
      ],
      "metadata": {
        "id": "ByJSSbgHYp9A"
      }
    },
    {
      "cell_type": "markdown",
      "source": [
        "\n",
        "\n",
        "```\n",
        "imdb_uri = []\n",
        "for i in df['IMDb_URI']:\n",
        "  imdb_uri.append(i[-10:][:-1])\n",
        "\n",
        "df['URI'] = imdb_uri\n",
        "```\n",
        "\n"
      ],
      "metadata": {
        "id": "6z1Oy6k9YqFm"
      }
    },
    {
      "cell_type": "markdown",
      "source": [
        "The bulk of my efforts then were focused on creating this next section of code, which takes the directors' URIs and builds a nested dictionary with the following structure:\n",
        "\n",
        "Director URI\n",
        "--> Director Information\n",
        "--> Movies\n",
        "--> Movie Information/URIs\n",
        "--> Crewmember Roles\n",
        "--> Crewmember Names & URIs\n",
        "\n"
      ],
      "metadata": {
        "id": "DJxEAMLNZX6U"
      }
    },
    {
      "cell_type": "markdown",
      "source": [
        "\n",
        "\n",
        "```\n",
        "dir_data = {}\n",
        "start = 'title/'\n",
        "start2 = 'name/'\n",
        "end = '/?ref'\n",
        "\n",
        "\n",
        "for i in df['URI']:\n",
        "  dir_data[i] = {}\n",
        "  dir_data.get(i)['Name'] = df[df['URI']==i]['FirstName'].values[0] + ' ' + df[df['URI']==i]['LastName'].values[0]\n",
        "  dir_data.get(i)['Sex'] = df[df['URI']==i]['Sex'].values[0]\n",
        "  dir_data.get(i)['Ethnicity_Race'] = df[df['URI']==i]['Ethnicity_Race'].values[0]\n",
        "  dir_data.get(i)['Labels'] = df[df['URI']==i]['Labels'].values[0]\n",
        "  dir_data.get(i)['Movies'] = {}\n",
        "  if imdb_scraper.get_full_credits_for_director(i).get('credits') is not None:\n",
        "    for mov_info in imdb_scraper.get_full_credits_for_director(i).get('credits'):\n",
        "      dir_data.get(i).get('Movies')[mov_info['title']] = {}\n",
        "      dir_data.get(i).get('Movies').get(mov_info['title'])['uri'] = mov_info['uri'][mov_info['uri'].find(start)+len(start):mov_info['uri'].rfind(end)]\n",
        "      dir_data.get(i).get('Movies').get(mov_info['title'])['roles'] = {}\n",
        "      if imdb_scraper.get_full_crew_for_movie(dir_data.get(i).get('Movies').get(mov_info['title'])['uri']).get('full_credits') is not None:\n",
        "        for credit in imdb_scraper.get_full_crew_for_movie(dir_data.get(i).get('Movies').get(mov_info['title'])['uri']).get('full_credits'):\n",
        "          if credit.get('role') != 'Cast (in credits order) verified as complete':\n",
        "            dir_data.get(i).get('Movies').get(mov_info['title'])['roles'][credit.get('role')] = {}\n",
        "            if credit.get('crew') is not None:\n",
        "              for member in credit.get('crew'):\n",
        "                dir_data.get(i).get('Movies').get(mov_info['title'])['roles'][credit.get('role')][member.get('link')[member.get('link').find(start2)+len(start):member.get('link').rfind(end)]] = {}\n",
        "                dir_data.get(i).get('Movies').get(mov_info['title'])['roles'][credit.get('role')][member.get('link')[member.get('link').find(start2)+len(start):member.get('link').rfind(end)]]['name'] = member.get('name')\n",
        "```\n",
        "\n"
      ],
      "metadata": {
        "id": "An0NcUlNZKpb"
      }
    },
    {
      "cell_type": "markdown",
      "source": [
        "Finally, I wrote this nested dictionary to a JSON file and distributed it to my fellow groupmates so, although there are still problems I need to address, they could begin to work with some data in pursuit of their subtask goals."
      ],
      "metadata": {
        "id": "W0kjdeWhaShx"
      }
    },
    {
      "cell_type": "markdown",
      "source": [
        "\n",
        "\n",
        "```\n",
        "with open('dir_data.json', 'w') as fp:\n",
        "    json.dump(dir_data, fp)\n",
        "```\n",
        "\n"
      ],
      "metadata": {
        "id": "9dstXbuKav5W"
      }
    },
    {
      "cell_type": "markdown",
      "source": [
        "There were a couple of significant issues I ran into this week that I aim to solve in the coming weeks. Most notably, I was unable to utilize the provided is_feature_film() function as it was producing the following error:\n",
        "\n",
        "\n",
        "```\n",
        "ERROR:NwalaTextUtils.textutils:imdb_scraper.py, 163, (<class 'isoduration.parser.exceptions.EmptyDuration'>, EmptyDuration('No duration information provided'), <traceback object at 0x7f1e660cf080>)\n",
        "```\n",
        "\n"
      ],
      "metadata": {
        "id": "9hXBry_Ha4-2"
      }
    },
    {
      "cell_type": "markdown",
      "source": [
        "As a result, the nested dictionary I created ended up being significantly large than necessary and it took my code about an hour and a half to extract it all.\n",
        "\n",
        "Additionally, I am yet to properly filter out the cast from all of the crewmember role lists. This is something I expect will be a simple fix in the coming days/week. "
      ],
      "metadata": {
        "id": "xXvqeg5icz5I"
      }
    },
    {
      "cell_type": "markdown",
      "source": [
        "### **SUMMARY**\n",
        "\n",
        "COMPLETED:\n",
        "\n",
        "*   Imported packages\n",
        "*   Read in data\n",
        "*   Isolated director URIs\n",
        "*   Created nested dictionary\n",
        "*   Wrote dictionary to JSON file\n",
        "\n",
        "GOALS MOVING FORWARD:\n",
        "\n",
        "*   Solve is_feature_film() issue\n",
        "*   Filter out all cast members\n",
        "*   Provide complete JSON to team members\n",
        "\n",
        "\n",
        "\n",
        "\n",
        "\n",
        "\n",
        "\n",
        "\n",
        "\n"
      ],
      "metadata": {
        "id": "STg827W2dkUk"
      }
    }
  ]
}