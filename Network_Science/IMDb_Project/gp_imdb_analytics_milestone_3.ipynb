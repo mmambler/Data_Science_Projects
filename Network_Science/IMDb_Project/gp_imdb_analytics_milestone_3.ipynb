{
  "nbformat": 4,
  "nbformat_minor": 0,
  "metadata": {
    "colab": {
      "provenance": []
    },
    "kernelspec": {
      "name": "python3",
      "display_name": "Python 3"
    },
    "language_info": {
      "name": "python"
    }
  },
  "cells": [
    {
      "cell_type": "markdown",
      "source": [
        "[![Open in Colab](https://colab.research.google.com/assets/colab-badge.svg)](https://colab.research.google.com/drive/1PpAwExmwowmzA8akaS_w1p_-Ckjnhv50?usp=sharing)"
      ],
      "metadata": {
        "id": "T_ZvX7rxUyxz"
      }
    },
    {
      "cell_type": "markdown",
      "source": [
        "# Group Project Milestone #3\n",
        "### Mac Ambler\n",
        "### Group Name: IMDb Analytics\n",
        "### DATA 340-02, Spring 2023\n",
        "### 04/27/2023"
      ],
      "metadata": {
        "id": "LjmvKACXVBhS"
      }
    },
    {
      "cell_type": "markdown",
      "source": [
        "### SUBTASK: Data Extraction/Cleaning\n",
        "\n",
        "This week I made huge strides toward completion of my subtask and was ultimately able to provide my groupmates with the complete director dataset. \n",
        "\n",
        "First and foremost, I was able to transfer over all of the code I had written in my Colab notebook to the .py file so it could be run in the command line. Throughout this process, I continued to convert this code into a format that implements more user-defined functions to make it more easily legible and simpler to debug as issues arise.\n",
        "\n",
        "Next, I implemented the new is_feature_film_v2() function, which cleared up all of the prior issues I had faced with the original function. This also allowed me to ensure that all feature-length films made it into the final dataset for each director, and thus our data should not be biased in any particular way.\n",
        "\n",
        "As my code was extracting the data, I noticed that three directors were not able to have their information extracted because the IMDb query timed out. In order to address this, I kept track of the IDs of these directors and, upon completion of the first extraction, re-ran the extraction code for only those 3 director IDs. I had to do this twice since some of them timed out again, but ultimately I was able to get all of these directors' information loaded into the dataset.\n",
        "\n",
        "Finally, I sent the complete dataset to my groupmates so they could begin to apply what they had already done with the JJ Abrams subset to the complete set of director data.\n",
        "\n",
        "Moving forward, I plan to add comments to my code in the .py file to make it easier to understand and closer to a state where my work can be turned in. Additionally, I will explore ways I may be able to further condense and simplify my code. Lastly, I will continue to address any issues that arise as my groupmates work with the data, and I will assist them in addressing their project subtasks."
      ],
      "metadata": {
        "id": "8P_h_9lJVBmd"
      }
    },
    {
      "cell_type": "markdown",
      "source": [
        "### **SUMMARY**\n",
        "\n",
        "COMPLETED:\n",
        "\n",
        "*   Moved all code to .py file\n",
        "*   Converted code to function format\n",
        "*   Implemented new is_feature_film_v2() function\n",
        "*   Ran the entire data extraction in the command line\n",
        "*   Kept track of director IDs that caused IMDb to time out\n",
        "*   Re-ran extraction just for these IDs to fill in holes in dataset\n",
        "*   Sent completed dataset to groupmates\n",
        "\n",
        "GOALS MOVING FORWARD:\n",
        "\n",
        "*   Write comments in my code to make it more easily understandable\n",
        "*   Explore ways to further condense code into functions\n",
        "*   Anticipate and aid groupmates in any data issues that arise\n",
        "*   Assist groupmates with their subtasks\n",
        "\n",
        "\n",
        "\n",
        "\n",
        "\n",
        "\n",
        "\n",
        "\n",
        "\n"
      ],
      "metadata": {
        "id": "STg827W2dkUk"
      }
    }
  ]
}
