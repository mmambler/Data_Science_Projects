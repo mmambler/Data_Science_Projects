{
  "nbformat": 4,
  "nbformat_minor": 0,
  "metadata": {
    "colab": {
      "provenance": []
    },
    "kernelspec": {
      "name": "python3",
      "display_name": "Python 3"
    },
    "language_info": {
      "name": "python"
    }
  },
  "cells": [
    {
      "cell_type": "markdown",
      "source": [
        "[![Open in Colab](https://colab.research.google.com/assets/colab-badge.svg)](https://colab.research.google.com/drive/1XYmGoKF_ETsAEG-WQVIsQRaIwTufSoEY?usp=sharing)"
      ],
      "metadata": {
        "id": "T_ZvX7rxUyxz"
      }
    },
    {
      "cell_type": "markdown",
      "source": [
        "# Group Project Milestone #2\n",
        "### Mac Ambler\n",
        "### Group Name: IMDb Analytics\n",
        "### DATA 340-02, Spring 2023\n",
        "### 04/20/2023"
      ],
      "metadata": {
        "id": "LjmvKACXVBhS"
      }
    },
    {
      "cell_type": "markdown",
      "source": [
        "### SUBTASK: Data Extraction/Cleaning\n",
        "\n",
        "This week I made a number of strides toward improving the methodologies and results of my data extraction. First and foremost, my main goal was to try to figure out the issue I was facing regarding the is_feature_film() function. I discovered that part of the problem was that occasionally the IMDb query would fail and not return any duration even when the ID passed did belong to a feature film. This problem would occasionally disappear however by rerunning the code at a later time. My plan for moving forward, in this regard, is to rewrite my code in such a way that, whenever a movie fails to load due to no duration info, it will not have to rerun through all the prior movies.\n",
        "\n",
        "Additionally, I have begun to address three other areas for improvement with my data extraction. First, I had built my code in such a way that it would create one giant json file as opposed to many smaller json files within file folders. For this reason, I have been adapting the code bit by bit so it doesn't build one large dictionary but rather creates new folders and fills those folders with json files by movie. Second, I have continued to transport my code from the Google Colab notebook I had written and tested it in, to a .py file that could be run in the terminal. As minor issues have arisen regarding differences between the notebook format and running the code in the command line, I have worked to fix them. Third, I have also been implementing more user-defined functions, rather than long, overly-nested chunks of code. This has made my code a lot cleaner and easier to work with.\n",
        "\n",
        "Moving forward, I will continue to progress in each of the areas I have addressed to this point. Ideally by the end of this next week, my ambition is to have a complete dataset ready for my groupmates that is easy to work with, includes all feature films, and is coded in a clean, readable formet. This way I can spend the following week assisting with problems with the data that arise from any of the other subtasks."
      ],
      "metadata": {
        "id": "8P_h_9lJVBmd"
      }
    },
    {
      "cell_type": "markdown",
      "source": [
        "### **SUMMARY**\n",
        "\n",
        "COMPLETED:\n",
        "\n",
        "* Gained better understanding of issue surrounding the is_feature_film() function\n",
        "* Developed plan to address this issue\n",
        "* Begun the process of:\n",
        "* Moving code over to .py file\n",
        "* Breaking it down into individual folders/json so it's not one large json file\n",
        "* Avoiding nested for and if statements by converting much of the code into functions\n",
        "\n",
        "GOALS MOVING FORWARD:\n",
        "\n",
        "* Continue to move code to .py file, convert code to functions, and build dataset in manner that will make it easier to work with\n",
        "* Build the code to withstand errors like the is_feature_function() issue\n",
        "* Ensure all relevant movie data is included in the final dataset\n",
        "* Anticipate and assist team members in issues that may arise with the data\n",
        "\n",
        "\n",
        "\n",
        "\n",
        "\n",
        "\n",
        "\n",
        "\n",
        "\n"
      ],
      "metadata": {
        "id": "STg827W2dkUk"
      }
    }
  ]
}
